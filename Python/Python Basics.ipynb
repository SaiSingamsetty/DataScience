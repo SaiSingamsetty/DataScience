{
 "cells": [
  {
   "cell_type": "markdown",
   "metadata": {},
   "source": [
    "# Strings"
   ]
  },
  {
   "cell_type": "code",
   "execution_count": 5,
   "metadata": {},
   "outputs": [
    {
     "name": "stdout",
     "output_type": "stream",
     "text": [
      "Hello world\n"
     ]
    }
   ],
   "source": [
    "print('Hello world')"
   ]
  },
  {
   "cell_type": "code",
   "execution_count": 10,
   "metadata": {},
   "outputs": [
    {
     "name": "stdout",
     "output_type": "stream",
     "text": [
      "Hello world\n"
     ]
    }
   ],
   "source": [
    "print(\"Hello world\")\n",
    "#print(\"Hello \n",
    " #     world\") #we cannot write multiline like this. Instead use \"\"\" \"\"\" or ''' '''"
   ]
  },
  {
   "cell_type": "code",
   "execution_count": 8,
   "metadata": {
    "scrolled": true
   },
   "outputs": [
    {
     "name": "stdout",
     "output_type": "stream",
     "text": [
      "Hello \n",
      "world. Multi line \n"
     ]
    }
   ],
   "source": [
    "print(\"\"\"Hello \n",
    "world. Multi line \"\"\")"
   ]
  },
  {
   "cell_type": "code",
   "execution_count": 12,
   "metadata": {},
   "outputs": [
    {
     "name": "stdout",
     "output_type": "stream",
     "text": [
      "'Hi\"\n"
     ]
    }
   ],
   "source": [
    "print(\"\\'Hi\\\"\") #Escape sequence if we want to include both ' and \" in a string"
   ]
  },
  {
   "cell_type": "code",
   "execution_count": 33,
   "metadata": {},
   "outputs": [
    {
     "name": "stdout",
     "output_type": "stream",
     "text": [
      "H\n",
      "e\n",
      "========String Operations=====\n",
      "Hello Pyt\n",
      "Hello Pyt\n",
      "HloPt\n",
      "Hello\n",
      "Python\n",
      "Hl\n",
      "HeHeHeHeHe\n"
     ]
    }
   ],
   "source": [
    "myString = \"Hello Python\"\n",
    "print(myString[0])\n",
    "print(myString[1])\n",
    "\n",
    "# Substrings\n",
    "# string[StartPos : EndPos: Step]\n",
    "print(\"========String Operations=====\")\n",
    "\n",
    "print(myString[0:9])\n",
    "print(myString[0:9:1])\n",
    "print(myString[0:9:2])\n",
    "print(myString[:5])\n",
    "print(myString[6:])\n",
    "\n",
    "\n",
    "print(myString[0]+myString[3]) # Concatenation\n",
    "\n",
    "print(myString[0:2] * 5)\n",
    "\n"
   ]
  },
  {
   "cell_type": "code",
   "execution_count": 35,
   "metadata": {},
   "outputs": [
    {
     "name": "stdout",
     "output_type": "stream",
     "text": [
      "*****Hello Python****\n",
      "12\n"
     ]
    }
   ],
   "source": [
    "print(myString.center(21,\"*\"))\n",
    "\n",
    "print(len(myString))"
   ]
  },
  {
   "cell_type": "code",
   "execution_count": 42,
   "metadata": {},
   "outputs": [
    {
     "name": "stdout",
     "output_type": "stream",
     "text": [
      "==isalnum()===\n",
      "False\n",
      "True\n",
      "True\n",
      "==isdigit()===\n",
      "True\n",
      "False\n"
     ]
    }
   ],
   "source": [
    "string1 = \"Hello python\"\n",
    "string2 = \"HelloPython\"\n",
    "string3 = \"123abc\"\n",
    "print(\"==isalnum()===\")\n",
    "print(string1.isalnum())\n",
    "print(string2.isalnum())\n",
    "print(string3.isalnum())\n",
    "# ' ' is not considered as alnum\n",
    "print(\"==isdigit()===\")\n",
    "print(\"2\".isdigit())\n",
    "print(\"2.0\".isdigit())\n",
    "\n",
    "# islower(), isupper(), isspace(), istitle()"
   ]
  },
  {
   "cell_type": "raw",
   "metadata": {},
   "source": [
    "help function # help(str)"
   ]
  },
  {
   "cell_type": "code",
   "execution_count": 49,
   "metadata": {},
   "outputs": [
    {
     "name": "stdout",
     "output_type": "stream",
     "text": [
      "hello python\n",
      "hey  \n",
      "   hey\n",
      "hey\n"
     ]
    }
   ],
   "source": [
    "print(\"HeLLo PyTHON\".lower()) # convert to lower case\n",
    "print(\"   hey  \".lstrip())\n",
    "print(\"   hey  \".rstrip())\n",
    "print(\"   hey  \".strip()) #both strips\n",
    "\n"
   ]
  },
  {
   "cell_type": "code",
   "execution_count": 52,
   "metadata": {},
   "outputs": [
    {
     "name": "stdout",
     "output_type": "stream",
     "text": [
      "a\n",
      "A\n"
     ]
    }
   ],
   "source": [
    "# max() and min()\n",
    "\n",
    "print(max(\"Aa\"))\n",
    "print(min(\"Ax\"))\n",
    "# it is considering ASCII values to extract max out of that\n"
   ]
  },
  {
   "cell_type": "code",
   "execution_count": 58,
   "metadata": {},
   "outputs": [
    {
     "name": "stdout",
     "output_type": "stream",
     "text": [
      "['I', 'love', 'python', 'too']\n",
      "['I,love,python,too']\n",
      "['I', 'love', 'python', 'too']\n",
      "['I', 'love,python,too']\n",
      "['I', 'love', 'python,too']\n"
     ]
    }
   ],
   "source": [
    "# split()\n",
    "\n",
    "print(\"I love python too\".split())\n",
    "print(\"I,love,python,too\".split())\n",
    "print(\"I,love,python,too\".split(','))\n",
    "print(\"I,love,python,too\".split(',',1))\n",
    "print(\"I,love,python,too\".split(',',2))"
   ]
  },
  {
   "cell_type": "code",
   "execution_count": 61,
   "metadata": {},
   "outputs": [
    {
     "name": "stdout",
     "output_type": "stream",
     "text": [
      "4\n",
      "2\n",
      "1\n",
      "2\n",
      "1\n"
     ]
    }
   ],
   "source": [
    "# count()\n",
    "\n",
    "print(\"Hello world Hello Python\".count(\"o\"))\n",
    "print(\"Hello world Hello Python\".count(\"Hello\"))\n",
    "print(\"Hello world Hello Python\".count(\"Hello\",0,10))\n",
    "print(\"Hello world Hello Python\".count(\"Hello\",0,len(\"Hello world Hello Python\")))\n",
    "print(\"Hello world Hello Python\".count(\"o\",0,7))"
   ]
  },
  {
   "cell_type": "code",
   "execution_count": 67,
   "metadata": {},
   "outputs": [
    {
     "name": "stdout",
     "output_type": "stream",
     "text": [
      "True\n",
      "True\n",
      "False\n",
      "True\n",
      "False\n",
      "True\n"
     ]
    }
   ],
   "source": [
    "# endswith()\n",
    "\n",
    "print(\"Hello\".endswith(\"o\"))\n",
    "print(\"Hello\".endswith(\"Hello\"))\n",
    "print(\"Hello\".endswith(\"l\"))\n",
    "print(\"Hello\".endswith(\"l\",0,3))\n",
    "print(\"Hello\".endswith(\"l\",0,2))\n",
    "print(\"Hello\".endswith(\"l\",0,4))"
   ]
  },
  {
   "cell_type": "code",
   "execution_count": 70,
   "metadata": {},
   "outputs": [
    {
     "name": "stdout",
     "output_type": "stream",
     "text": [
      "2\n",
      "-1\n",
      "1\n"
     ]
    }
   ],
   "source": [
    "# find()   returns the index of the searching string (-1 if not found)\n",
    "# index() is similar to find()\n",
    "# index() throws an error if searching string is not found\n",
    "# rfind() finds from right to left and returns the first occurence. (It will be last if we consider from left to right)\n",
    "print(\"Heyo\".find('y'))\n",
    "print(\"Heyo\".find('ee'))\n",
    "print(\"Heyo\".find('ey'))"
   ]
  },
  {
   "cell_type": "code",
   "execution_count": 72,
   "metadata": {},
   "outputs": [
    {
     "name": "stdout",
     "output_type": "stream",
     "text": [
      "A blue car and blue bike\n"
     ]
    }
   ],
   "source": [
    "# format()\n",
    "\n",
    "myString = \"A {0} {1} and {0} {2}\"\n",
    "\n",
    "print(myString.format(\"blue\",\"car\",\"bike\"))"
   ]
  },
  {
   "cell_type": "code",
   "execution_count": 2,
   "metadata": {},
   "outputs": [
    {
     "name": "stdout",
     "output_type": "stream",
     "text": [
      "55\n"
     ]
    }
   ],
   "source": [
    "sum1 = 0\n",
    "for n in range(1,11):\n",
    "    sum1 = sum1 + n\n",
    "print(sum1)"
   ]
  },
  {
   "cell_type": "code",
   "execution_count": 13,
   "metadata": {},
   "outputs": [
    {
     "name": "stdout",
     "output_type": "stream",
     "text": [
      "\n",
      "\n",
      "*\n",
      "\n",
      "**\n",
      "\n",
      "***\n",
      "\n",
      "****\n",
      "\n"
     ]
    }
   ],
   "source": [
    "for n in range(1,6):\n",
    "    for i in range(1,n):\n",
    "        print('*',end=\"\")\n",
    "    print('\\n')\n",
    "    for i in range(n,1):\n",
    "        print('*',end=\"\")   \n",
    "        "
   ]
  },
  {
   "cell_type": "code",
   "execution_count": 3,
   "metadata": {},
   "outputs": [
    {
     "data": {
      "text/plain": [
       "range(7, 1)"
      ]
     },
     "execution_count": 3,
     "metadata": {},
     "output_type": "execute_result"
    }
   ],
   "source": [
    "range(7,1)"
   ]
  },
  {
   "cell_type": "code",
   "execution_count": 18,
   "metadata": {},
   "outputs": [
    {
     "name": "stdout",
     "output_type": "stream",
     "text": [
      "15\n"
     ]
    }
   ],
   "source": [
    "a = 12345\n",
    "sum = 0\n",
    "while(a>0):\n",
    "    sum = sum + a%10\n",
    "    a = a//10\n",
    "print(sum)\n"
   ]
  },
  {
   "cell_type": "code",
   "execution_count": null,
   "metadata": {},
   "outputs": [],
   "source": []
  },
  {
   "cell_type": "code",
   "execution_count": null,
   "metadata": {},
   "outputs": [],
   "source": []
  },
  {
   "cell_type": "code",
   "execution_count": null,
   "metadata": {},
   "outputs": [],
   "source": []
  },
  {
   "cell_type": "code",
   "execution_count": null,
   "metadata": {},
   "outputs": [],
   "source": []
  },
  {
   "cell_type": "code",
   "execution_count": null,
   "metadata": {},
   "outputs": [],
   "source": []
  }
 ],
 "metadata": {
  "kernelspec": {
   "display_name": "Python 3",
   "language": "python",
   "name": "python3"
  },
  "language_info": {
   "codemirror_mode": {
    "name": "ipython",
    "version": 3
   },
   "file_extension": ".py",
   "mimetype": "text/x-python",
   "name": "python",
   "nbconvert_exporter": "python",
   "pygments_lexer": "ipython3",
   "version": "3.7.0"
  }
 },
 "nbformat": 4,
 "nbformat_minor": 2
}
