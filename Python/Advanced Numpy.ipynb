{
 "cells": [
  {
   "cell_type": "code",
   "execution_count": 5,
   "metadata": {},
   "outputs": [
    {
     "name": "stdout",
     "output_type": "stream",
     "text": [
      "[[0]\n",
      " [1]\n",
      " [2]]\n"
     ]
    }
   ],
   "source": [
    "import numpy as np\n",
    "\n",
    "b = np.arange(3).reshape(3,1)\n",
    "print(b)"
   ]
  },
  {
   "cell_type": "markdown",
   "metadata": {},
   "source": [
    "### Broadcasting"
   ]
  },
  {
   "cell_type": "code",
   "execution_count": 19,
   "metadata": {},
   "outputs": [
    {
     "name": "stdout",
     "output_type": "stream",
     "text": [
      "[[1. 1. 1.]\n",
      " [1. 1. 1.]]\n",
      "[0 1 2]\n",
      "2\n",
      "1\n",
      "(2, 3)\n",
      "(3,)\n",
      "\n",
      "[[1. 2. 3.]\n",
      " [1. 2. 3.]]\n"
     ]
    }
   ],
   "source": [
    "import numpy as np\n",
    "M = np.ones((2,3))\n",
    "a = np.arange(3)\n",
    "\n",
    "print(M)\n",
    "print(a)\n",
    "print(M.ndim)\n",
    "print(a.ndim)\n",
    "print(M.shape)\n",
    "print(a.shape)\n",
    "\n",
    "print()\n",
    "print(a+M) #Broadcasting"
   ]
  },
  {
   "cell_type": "markdown",
   "metadata": {},
   "source": [
    "Above case: F\n",
    "    Rule 1: Dimensions are not same, so it converted to two dimension.\n",
    "    Rule 2: Shape is not same, so it will go to Rule 3\n",
    "    Rule 3: If there is any dimension 1, then it will add the duplicate the row and form same shape. then add."
   ]
  },
  {
   "cell_type": "code",
   "execution_count": null,
   "metadata": {},
   "outputs": [],
   "source": []
  },
  {
   "cell_type": "code",
   "execution_count": 22,
   "metadata": {},
   "outputs": [
    {
     "name": "stdout",
     "output_type": "stream",
     "text": [
      "(2, 6)\n",
      "(2, 3)\n",
      "It will fail as though they have same dimensions, they dont have shape. It will go for Rule 3. Any dimension has 1 ? as there are no. It will throw error\n"
     ]
    }
   ],
   "source": [
    "a = np.arange(12).reshape(2,6)\n",
    "b = np.arange(6).reshape(2,3)\n",
    "\n",
    "print(a.shape)\n",
    "print(b.shape)\n",
    "print('It will fail as though they have same dimensions, they dont have shape. It will go for Rule 3. Any dimension has 1 ? as there are no. It will throw error')\n",
    "\n",
    "#print(a+b)"
   ]
  },
  {
   "cell_type": "code",
   "execution_count": 32,
   "metadata": {},
   "outputs": [
    {
     "name": "stdout",
     "output_type": "stream",
     "text": [
      "Original Array : \n",
      " [[5 0 3 3]\n",
      " [7 9 3 5]\n",
      " [2 4 7 6]]\n",
      "It will broadcast singlevector to similar shape and dimension and then perform vectorization\n",
      "no of elements less than 6: 8\n",
      "no of elements less than 6 in each column: [2 2 2 2]\n",
      "no of elements less than 6 in each row: [4 2 2]\n"
     ]
    }
   ],
   "source": [
    "# Working with Boolean Array\n",
    "\n",
    "rng = np.random.RandomState(0)\n",
    "x = rng.randint(10, size=(3,4))\n",
    "\n",
    "print('Original Array : \\n',x)\n",
    "\n",
    "print('It will broadcast singlevector to similar shape and dimension and then perform vectorization')\n",
    "\n",
    "print('no of elements less than 6:',np.sum(x<6))\n",
    "print('no of elements less than 6 in each column:',np.sum(x<6, axis=0))\n",
    "print('no of elements less than 6 in each row:',np.sum(x<6, axis=1))"
   ]
  },
  {
   "cell_type": "code",
   "execution_count": 31,
   "metadata": {},
   "outputs": [
    {
     "name": "stdout",
     "output_type": "stream",
     "text": [
      "Original Array : \n",
      " [[3 6 6 0]\n",
      " [9 8 4 7]\n",
      " [0 0 7 1]\n",
      " [5 7 0 1]]\n"
     ]
    }
   ],
   "source": [
    "#Random int generator\n",
    "rng = np.random.RandomState(5)\n",
    "x = rng.randint(10, size=(4,4))\n",
    "print('Original Array : \\n',x)"
   ]
  },
  {
   "cell_type": "code",
   "execution_count": 38,
   "metadata": {},
   "outputs": [
    {
     "name": "stdout",
     "output_type": "stream",
     "text": [
      "Original Matrix:\n",
      " [[5 0 3 3]\n",
      " [7 9 3 5]\n",
      " [2 4 7 6]]\n",
      "\n",
      " True\n",
      "False\n",
      "on x-axis: [ True  True  True  True]\n",
      "on y-axis: [ True  True  True]\n"
     ]
    }
   ],
   "source": [
    "# any() and all()\n",
    "print('Original Matrix:\\n',x)\n",
    "print('\\n',np.any(x<8))\n",
    "print(np.all(x>10))\n",
    "\n",
    "print('on x-axis:',np.any(x<8, axis=0))\n",
    "print('on y-axis:',np.any(x<8, axis=1))"
   ]
  },
  {
   "cell_type": "code",
   "execution_count": 48,
   "metadata": {},
   "outputs": [
    {
     "name": "stdout",
     "output_type": "stream",
     "text": [
      "Array: [0 1 2 3 4 5 6 7]\n",
      "Array Dimension: 1\n",
      "Reshaped array:\n",
      " [[0 1]\n",
      " [2 3]\n",
      " [4 5]\n",
      " [6 7]]\n",
      "Reshaped array:\n",
      " [[0 1 2 3]\n",
      " [4 5 6 7]]\n",
      "Reshaped array:\n",
      " [[0]\n",
      " [1]\n",
      " [2]\n",
      " [3]\n",
      " [4]\n",
      " [5]\n",
      " [6]\n",
      " [7]]\n",
      "Reshaped array:\n",
      " [[[0 1]\n",
      "  [2 3]]\n",
      "\n",
      " [[4 5]\n",
      "  [6 7]]]\n"
     ]
    }
   ],
   "source": [
    "arr = np.arange(8)\n",
    "print('Array:',arr)\n",
    "print('Array Dimension:',arr.ndim)\n",
    "\n",
    "print('Reshaped array:\\n',arr.reshape(4,2))\n",
    "\n",
    "# We can reshape multidimensional arrays too\n",
    "print('Reshaped array:\\n',arr.reshape(4,2).reshape(2,4))\n",
    "print('Reshaped array:\\n',arr.reshape(4,2).reshape(8,1))\n",
    "print('Reshaped array:\\n',arr.reshape(4,2).reshape(2,2,2))"
   ]
  },
  {
   "cell_type": "code",
   "execution_count": 54,
   "metadata": {},
   "outputs": [
    {
     "name": "stdout",
     "output_type": "stream",
     "text": [
      "1D array:\n",
      " [ 0  1  2  3  4  5  6  7  8  9 10 11 12 13 14]\n",
      "5 rows: \n",
      " [[ 0  1  2]\n",
      " [ 3  4  5]\n",
      " [ 6  7  8]\n",
      " [ 9 10 11]\n",
      " [12 13 14]]\n",
      "5 columns: \n",
      " [[ 0  1  2  3  4]\n",
      " [ 5  6  7  8  9]\n",
      " [10 11 12 13 14]]\n",
      "5 columns: \n",
      " [[[ 0  1]\n",
      "  [ 2  3]]\n",
      "\n",
      " [[ 4  5]\n",
      "  [ 6  7]]\n",
      "\n",
      " [[ 8  9]\n",
      "  [10 11]]\n",
      "\n",
      " [[12 13]\n",
      "  [14 15]]]\n"
     ]
    }
   ],
   "source": [
    "arr = np.arange(15)\n",
    "\n",
    "print('1D array:\\n',arr)\n",
    "\n",
    "print(\"5 rows: \\n\",arr.reshape((5,-1))) # if we give -1, it will be internally computed\n",
    "\n",
    "print(\"5 columns: \\n\",arr.reshape((-1,5)))\n",
    "\n",
    "print(\"5 columns: \\n\",np.arange(16).reshape((-1,2,2)))\n"
   ]
  },
  {
   "cell_type": "code",
   "execution_count": 61,
   "metadata": {},
   "outputs": [
    {
     "name": "stdout",
     "output_type": "stream",
     "text": [
      "2\n",
      "Array:\n",
      " [[ 0  1  2]\n",
      " [ 3  4  5]\n",
      " [ 6  7  8]\n",
      " [ 9 10 11]\n",
      " [12 13 14]]\n",
      "Ravel Array:\n",
      " [ 0  1  2  3  4  5  6  7  8  9 10 11 12 13 14]\n",
      "Flatten Array:\n",
      " [ 0  1  2  3  4  5  6  7  8  9 10 11 12 13 14]\n",
      "[[  0   1   2]\n",
      " [  3 100   5]\n",
      " [  6   7   8]\n",
      " [  9  10  11]\n",
      " [ 12  13  14]]\n",
      "[  0   1   2   3 100   5   6   7   8   9  10  11  12  13  14]\n",
      "[ 0  1  2  3  4  5  6  7  8  9 10 11 12 13 14]\n"
     ]
    }
   ],
   "source": [
    "# ravel() and flatten()\n",
    "\n",
    "arr = np.arange(15).reshape(5,3)\n",
    "print(arr.ndim)\n",
    "print('Array:\\n',arr)\n",
    "\n",
    "#ravel doesn't produce a copy of the underlying data whereas the flatten methods always returns a copy of the data\n",
    "rav = arr.ravel()\n",
    "print('Ravel Array:\\n',rav)\n",
    "\n",
    "flat = arr.flatten()\n",
    "print('Flatten Array:\\n',flat)\n",
    "\n",
    "# Checking the diff\n",
    "arr[1,1] = 100\n",
    "print(arr)\n",
    "print(rav)\n",
    "print(flat)\n"
   ]
  },
  {
   "cell_type": "markdown",
   "metadata": {},
   "source": [
    "### Concatenation"
   ]
  },
  {
   "cell_type": "code",
   "execution_count": 72,
   "metadata": {},
   "outputs": [
    {
     "name": "stdout",
     "output_type": "stream",
     "text": [
      "[[0 1 2]\n",
      " [3 4 5]]\n",
      "[[ 7  8  9]\n",
      " [10 11 12]]\n",
      "Row wise:\n",
      " [[ 0  1  2]\n",
      " [ 3  4  5]\n",
      " [ 7  8  9]\n",
      " [10 11 12]]\n",
      "Col wise:\n",
      " [[ 0  1  2  7  8  9]\n",
      " [ 3  4  5 10 11 12]]\n",
      "--------------------------------------\n",
      "Similar to rbind and cbind\n",
      "\n",
      "Vertical Stack:\n",
      " [[ 0  1  2]\n",
      " [ 3  4  5]\n",
      " [ 7  8  9]\n",
      " [10 11 12]]\n",
      "Horizontal Stack:\n",
      " [[ 0  1  2  7  8  9]\n",
      " [ 3  4  5 10 11 12]]\n"
     ]
    }
   ],
   "source": [
    "arr1 = np.arange(6).reshape(2,3)\n",
    "arr2 = np.arange(7,13).reshape(2,3)\n",
    "print(arr1)\n",
    "print(arr2)\n",
    "\n",
    "print('Row wise:\\n',np.concatenate([arr1,arr2],axis = 0))\n",
    "print('Col wise:\\n',np.concatenate([arr1,arr2],axis = 1))\n",
    "\n",
    "print('--------------------------------------')\n",
    "print('Similar to rbind and cbind, we have vstack and hstack\\n')\n",
    "print('Vertical Stack:\\n',np.vstack((arr1,arr2)))\n",
    "print('Horizontal Stack:\\n',np.hstack((arr1,arr2)))\n",
    "\n"
   ]
  },
  {
   "cell_type": "markdown",
   "metadata": {},
   "source": [
    "## Fancy Indexing"
   ]
  },
  {
   "cell_type": "code",
   "execution_count": 80,
   "metadata": {},
   "outputs": [
    {
     "name": "stdout",
     "output_type": "stream",
     "text": [
      "[51 92 14 71 60 20 82 86 74 74]\n",
      "[14 60 20]\n",
      "[[14 60]\n",
      " [71 82]]\n"
     ]
    }
   ],
   "source": [
    "rand = np.random.RandomState(42)\n",
    "\n",
    "x = rand.randint(100, size=10)\n",
    "print(x)\n",
    "ind = [2,4,5]\n",
    "print(x[ind])\n",
    "\n",
    "ind= np.array([[2,4],[3,6]])\n",
    "print(x[ind])"
   ]
  },
  {
   "cell_type": "markdown",
   "metadata": {},
   "source": [
    "## Numpy Structured Arrays"
   ]
  },
  {
   "cell_type": "code",
   "execution_count": null,
   "metadata": {},
   "outputs": [],
   "source": []
  },
  {
   "cell_type": "code",
   "execution_count": null,
   "metadata": {},
   "outputs": [],
   "source": []
  },
  {
   "cell_type": "code",
   "execution_count": null,
   "metadata": {},
   "outputs": [],
   "source": []
  }
 ],
 "metadata": {
  "kernelspec": {
   "display_name": "Python 3",
   "language": "python",
   "name": "python3"
  },
  "language_info": {
   "codemirror_mode": {
    "name": "ipython",
    "version": 3
   },
   "file_extension": ".py",
   "mimetype": "text/x-python",
   "name": "python",
   "nbconvert_exporter": "python",
   "pygments_lexer": "ipython3",
   "version": "3.7.0"
  }
 },
 "nbformat": 4,
 "nbformat_minor": 2
}
