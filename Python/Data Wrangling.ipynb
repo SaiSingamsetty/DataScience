{
 "cells": [
  {
   "cell_type": "code",
   "execution_count": 1,
   "metadata": {},
   "outputs": [],
   "source": [
    "import pandas as pd\n",
    "import numpy as np\n",
    "import os\n",
    "import sys"
   ]
  },
  {
   "cell_type": "code",
   "execution_count": 10,
   "metadata": {},
   "outputs": [
    {
     "name": "stdout",
     "output_type": "stream",
     "text": [
      "  Key  data1\n",
      "0   b      0\n",
      "1   b      1\n",
      "2   a      2\n",
      "3   c      3\n",
      "4   a      4\n",
      "5   a      5\n",
      "6   b      6\n",
      "  Key  data2\n",
      "0   a      0\n",
      "1   b      1\n",
      "2   c      2\n",
      "  Key  data1  data2\n",
      "0   b      0      1\n",
      "1   b      1      1\n",
      "2   b      6      1\n",
      "3   a      2      0\n",
      "4   a      4      0\n",
      "5   a      5      0\n",
      "6   c      3      2\n",
      "  Key  data1  data2\n",
      "0   b      0      1\n",
      "1   b      1      1\n",
      "2   b      6      1\n",
      "3   a      2      0\n",
      "4   a      4      0\n",
      "5   a      5      0\n",
      "6   c      3      2\n",
      "  Key  data1  data2\n",
      "0   b      0      1\n",
      "1   b      1      1\n",
      "2   b      6      1\n",
      "3   a      2      0\n",
      "4   a      4      0\n",
      "5   a      5      0\n",
      "6   c      3      2\n"
     ]
    }
   ],
   "source": [
    "# Combining and Merging Data sets\n",
    "\n",
    "df1 = pd.DataFrame({'Key':['b','b','a','c','a','a','b'],'data1':range(7)})\n",
    "df2 = pd.DataFrame({'Key':['a','b','c'],'data2':range(3)})\n",
    "print(df1)\n",
    "print(df2)\n",
    "print(pd.merge(df1,df2))\n",
    "print(pd.merge(df1,df2,on='Key'))\n",
    "print(pd.merge(df1,df2,on='Key',how='outer'))"
   ]
  }
 ],
 "metadata": {
  "kernelspec": {
   "display_name": "Python 3",
   "language": "python",
   "name": "python3"
  },
  "language_info": {
   "codemirror_mode": {
    "name": "ipython",
    "version": 3
   },
   "file_extension": ".py",
   "mimetype": "text/x-python",
   "name": "python",
   "nbconvert_exporter": "python",
   "pygments_lexer": "ipython3",
   "version": "3.7.0"
  }
 },
 "nbformat": 4,
 "nbformat_minor": 2
}
