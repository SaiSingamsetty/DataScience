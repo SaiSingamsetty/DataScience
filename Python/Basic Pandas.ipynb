{
 "cells": [
  {
   "cell_type": "markdown",
   "metadata": {},
   "source": [
    "Three datastructures\n",
    "    1. Series\n",
    "    2. Data frame\n",
    "    3. Index"
   ]
  },
  {
   "cell_type": "markdown",
   "metadata": {},
   "source": [
    "### Series"
   ]
  },
  {
   "cell_type": "code",
   "execution_count": 6,
   "metadata": {},
   "outputs": [],
   "source": [
    "import pandas as pd\n"
   ]
  },
  {
   "cell_type": "code",
   "execution_count": 10,
   "metadata": {},
   "outputs": [
    {
     "name": "stdout",
     "output_type": "stream",
     "text": [
      "0    4\n",
      "1    7\n",
      "2   -5\n",
      "3    3\n",
      "dtype: int64\n",
      "1\n",
      "(4,)\n"
     ]
    }
   ],
   "source": [
    "ser = pd.Series([4,7,-5,3])\n",
    "print(ser)\n",
    "\n",
    "print(ser.ndim)\n",
    "print(ser.shape)"
   ]
  },
  {
   "cell_type": "markdown",
   "metadata": {},
   "source": [
    "The first col is the System defined Index. It is single dimensional structure."
   ]
  },
  {
   "cell_type": "code",
   "execution_count": 14,
   "metadata": {},
   "outputs": [
    {
     "name": "stdout",
     "output_type": "stream",
     "text": [
      "The values of Series: \n",
      " [ 4  7 -5  3]\n",
      "The Keys of Series: \n",
      " RangeIndex(start=0, stop=4, step=1)\n"
     ]
    }
   ],
   "source": [
    "print('The values of Series: \\n',ser.values)\n",
    "print('The Keys of Series: \\n',ser.index)"
   ]
  },
  {
   "cell_type": "code",
   "execution_count": null,
   "metadata": {},
   "outputs": [],
   "source": [
    "#Create our own indexes\n",
    "# in Numpy's nd arrays, we have system generated indexes, while in Pandas series we have that feature"
   ]
  },
  {
   "cell_type": "code",
   "execution_count": 23,
   "metadata": {},
   "outputs": [
    {
     "name": "stdout",
     "output_type": "stream",
     "text": [
      "Values: [ 4  7 -5  3]\n",
      "Indexes: Index(['Bob', 'Joe', 'Will', 'Sam'], dtype='object')\n",
      "Value at Bob: 4\n",
      "Value at Bob: 4\n",
      "Value at multiple selections:\n",
      " Bob     4\n",
      "Joe     7\n",
      "Will   -5\n",
      "dtype: int64\n"
     ]
    }
   ],
   "source": [
    "ser1 = pd.Series([4,7,-5,3], index=['Bob','Joe','Will','Sam'])\n",
    "\n",
    "print('Values:',ser1.values)\n",
    "print('Indexes:',ser1.index)\n",
    "\n",
    "print('Value at Bob:',ser1['Bob'])\n",
    "print('Value at Bob:',ser1[0]) # we can also use system generated indexes as well\n",
    "\n",
    "print('Value at multiple selections:\\n',ser1[['Bob','Joe','Will']])"
   ]
  },
  {
   "cell_type": "code",
   "execution_count": 40,
   "metadata": {},
   "outputs": [
    {
     "name": "stdout",
     "output_type": "stream",
     "text": [
      "---Pandas also do Vectorization by Broadcasting---\n",
      "Fetch all positive values Bob    4\n",
      "Joe    7\n",
      "Sam    3\n",
      "dtype: int64\n",
      "\n",
      "---Keyword: 'in'---\n",
      "Series:\n",
      " Bob     4\n",
      "Joe     7\n",
      "Will   -5\n",
      "Sam     3\n",
      "dtype: int64\n",
      "Is bob in Series ? : True\n",
      "\n",
      "---Fetch Keys and Values like Dictionary---\n",
      "Keys in Series:\n",
      " Index(['Bob', 'Joe', 'Will', 'Sam'], dtype='object')\n",
      "Keys in Series:\n",
      " Index(['Bob', 'Joe', 'Will', 'Sam'], dtype='object')\n"
     ]
    }
   ],
   "source": [
    "print('---Pandas also do Vectorization by Broadcasting---')\n",
    "print('Fetch all positive values',ser1[ser1>0])\n",
    "\n",
    "print('\\n---Keyword: \\'in\\'---')\n",
    "print('Series:\\n',ser1)\n",
    "print(\"Is bob in Series ? :\", 'Bob' in ser1)\n",
    "\n",
    "print('\\n---Fetch Keys like Dictionary---')\n",
    "print(\"Keys in Series:\\n\",ser1.keys())\n",
    "print(\"Keys in Series:\\n\",ser1.index)"
   ]
  },
  {
   "cell_type": "code",
   "execution_count": 42,
   "metadata": {},
   "outputs": [
    {
     "data": {
      "text/plain": [
       "[('Bob', 4), ('Joe', 7), ('Will', -5), ('Sam', 3)]"
      ]
     },
     "execution_count": 42,
     "metadata": {},
     "output_type": "execute_result"
    }
   ],
   "source": [
    "list(ser1.items())"
   ]
  },
  {
   "cell_type": "code",
   "execution_count": 45,
   "metadata": {},
   "outputs": [
    {
     "name": "stdout",
     "output_type": "stream",
     "text": [
      "Types of sdata:  <class 'dict'>\n",
      "Series: a    10\n",
      "b    20\n",
      "c    30\n",
      "d    40\n",
      "dtype: int64\n",
      "Type of series <class 'pandas.core.series.Series'>\n"
     ]
    }
   ],
   "source": [
    "# Dictionary to Series\n",
    "\n",
    "sdata = {'a':10,'b':20,'c':30,'d':40}\n",
    "\n",
    "print(\"Types of sdata: \",type(sdata))\n",
    "\n",
    "ser3 = pd.Series(sdata)\n",
    "print(\"Series:\",ser3)\n",
    "print(\"Type of series\",type(ser3))"
   ]
  },
  {
   "cell_type": "code",
   "execution_count": 51,
   "metadata": {},
   "outputs": [
    {
     "name": "stdout",
     "output_type": "stream",
     "text": [
      "A    3\n",
      "B    4\n",
      "C    8\n",
      "dtype: int64\n",
      "A    3\n",
      "B    4\n",
      "C    8\n",
      "dtype: int64\n"
     ]
    }
   ],
   "source": [
    "dct = {'A':3,'B':4,'C':8,'D':10}\n",
    "# dct['A':'C'] \n",
    "# It gives Error\n",
    "\n",
    "# We can slice it in Pandas\n",
    "ser3 = pd.Series(dct)\n",
    "print(ser3['A':'C'])\n",
    "print(ser3[0:3])"
   ]
  },
  {
   "cell_type": "code",
   "execution_count": 58,
   "metadata": {},
   "outputs": [
    {
     "name": "stdout",
     "output_type": "stream",
     "text": [
      "Original Dictionary\n",
      " {'A': 3, 'B': 4, 'C': 8, 'D': 10}\n",
      "New Series\n",
      " N    NaN\n",
      "A    3.0\n",
      "B    4.0\n",
      "C    8.0\n",
      "dtype: float64\n",
      "Above, as 'N' is new state added, it has now corresponding value, It will store as NaN\n"
     ]
    }
   ],
   "source": [
    "dct = {'A':3,'B':4,'C':8,'D':10}\n",
    "\n",
    "states = ['N','A','B','C']\n",
    "\n",
    "ser4 = pd.Series(dct,index=states)\n",
    "\n",
    "print('Original Dictionary\\n',dct)\n",
    "print('New Series\\n',ser4)\n",
    "print('Above, as \\'N\\' is new state added, it has now corresponding value, It will store as NaN')"
   ]
  },
  {
   "cell_type": "code",
   "execution_count": 62,
   "metadata": {},
   "outputs": [
    {
     "name": "stdout",
     "output_type": "stream",
     "text": [
      "A      NaN\n",
      "New    3.0\n",
      "C      4.0\n",
      "D      8.0\n",
      "dtype: float64\n"
     ]
    }
   ],
   "source": [
    "# ser4.index[1] = 'New'\n",
    "# It gives error. It cannot be updated like that.\n",
    "\n",
    "ser4.index = ['A','New','C','D']\n",
    "\n",
    "print(ser4)"
   ]
  },
  {
   "cell_type": "markdown",
   "metadata": {},
   "source": [
    "### Data frames"
   ]
  },
  {
   "cell_type": "code",
   "execution_count": 65,
   "metadata": {},
   "outputs": [
    {
     "name": "stdout",
     "output_type": "stream",
     "text": [
      "    state  year  pop\n",
      "0    Ohio  2000  1.5\n",
      "1    Ohio  2001  1.7\n",
      "2    Ohio  2002  3.6\n",
      "3  Nevada  2001  2.4\n",
      "4  Nevada  2002  2.9\n"
     ]
    }
   ],
   "source": [
    "data = {'state':['Ohio','Ohio','Ohio','Nevada','Nevada'],'year':[2000,2001,2002,2001,2002],'pop':[1.5,1.7,3.6,2.4,2.9]}\n",
    "\n",
    "frame = pd.DataFrame(data)\n",
    "print(frame)"
   ]
  },
  {
   "cell_type": "code",
   "execution_count": 67,
   "metadata": {},
   "outputs": [
    {
     "name": "stdout",
     "output_type": "stream",
     "text": [
      "RangeIndex(start=0, stop=5, step=1)\n",
      "Index(['state', 'year', 'pop'], dtype='object')\n"
     ]
    }
   ],
   "source": [
    "print(frame.index)  # Row index\n",
    "print(frame.columns) # Column Index"
   ]
  },
  {
   "cell_type": "code",
   "execution_count": 77,
   "metadata": {},
   "outputs": [
    {
     "name": "stdout",
     "output_type": "stream",
     "text": [
      "       year  pop   state debt\n",
      "one    2000  1.5    Ohio  NaN\n",
      "two    2001  1.7    Ohio  NaN\n",
      "three  2002  3.6    Ohio  NaN\n",
      "four   2001  2.4  Nevada  NaN\n",
      "five   2002  2.9  Nevada  NaN\n",
      "one        Ohio\n",
      "two        Ohio\n",
      "three      Ohio\n",
      "four     Nevada\n",
      "five     Nevada\n",
      "Name: state, dtype: object\n",
      "one        Ohio\n",
      "two        Ohio\n",
      "three      Ohio\n",
      "four     Nevada\n",
      "five     Nevada\n",
      "Name: state, dtype: object\n"
     ]
    }
   ],
   "source": [
    "frame2 = pd.DataFrame(data, columns = ['year','pop','state','debt'],index=['one','two','three','four','five'])\n",
    "print(frame2)\n",
    "print(frame2['state']) #Recommended\n",
    "print(frame2.state)"
   ]
  },
  {
   "cell_type": "code",
   "execution_count": 79,
   "metadata": {},
   "outputs": [
    {
     "name": "stdout",
     "output_type": "stream",
     "text": [
      "one      1.5\n",
      "two      1.7\n",
      "three    3.6\n",
      "four     2.4\n",
      "five     2.9\n",
      "Name: pop, dtype: float64\n",
      "<bound method NDFrame.pop of        year  pop   state debt\n",
      "one    2000  1.5    Ohio  NaN\n",
      "two    2001  1.7    Ohio  NaN\n",
      "three  2002  3.6    Ohio  NaN\n",
      "four   2001  2.4  Nevada  NaN\n",
      "five   2002  2.9  Nevada  NaN>\n"
     ]
    }
   ],
   "source": [
    "print(frame2['pop'])\n",
    "print(frame2.pop) # pop is a keyword. It gives output which is not expected. So to avoid, this syntax is not recommended."
   ]
  },
  {
   "cell_type": "code",
   "execution_count": 85,
   "metadata": {},
   "outputs": [
    {
     "name": "stdout",
     "output_type": "stream",
     "text": [
      "       year  pop   state debt\n",
      "one    2000  1.5    Ohio  NaN\n",
      "two    2001  1.7    Ohio  NaN\n",
      "three  2002  3.6    Ohio  NaN\n",
      "four   2001  2.4  Nevada  NaN\n",
      "five   2002  2.9  Nevada  NaN\n",
      "\n",
      " year     2002\n",
      "pop       3.6\n",
      "state    Ohio\n",
      "debt      NaN\n",
      "Name: three, dtype: object\n",
      "\n",
      " year       2001\n",
      "pop         2.4\n",
      "state    Nevada\n",
      "debt        NaN\n",
      "Name: four, dtype: object\n",
      "\n",
      " one      2000\n",
      "two      2001\n",
      "three    2002\n",
      "four     2001\n",
      "five     2002\n",
      "Name: year, dtype: int64\n"
     ]
    }
   ],
   "source": [
    "print(frame2)\n",
    "print('\\n',frame2.loc['three']) #use loc[] for user defined Row index\n",
    "print('\\n',frame2.iloc[3]) # Use iloc[] for System generated Row index"
   ]
  },
  {
   "cell_type": "code",
   "execution_count": 96,
   "metadata": {},
   "outputs": [
    {
     "name": "stdout",
     "output_type": "stream",
     "text": [
      "\n",
      " one      2000\n",
      "two      2001\n",
      "three    2002\n",
      "four     2001\n",
      "five     2002\n",
      "Name: year, dtype: int64\n",
      "\n",
      "      year  pop\n",
      "one  2000  1.5\n",
      "two  2001  1.7\n",
      "\n",
      "        year state\n",
      "one    2000  Ohio\n",
      "three  2002  Ohio\n",
      "\n",
      " one      NaN\n",
      "two      NaN\n",
      "three    NaN\n",
      "four     NaN\n",
      "five     NaN\n",
      "Name: debt, dtype: object\n"
     ]
    }
   ],
   "source": [
    "print('\\n',frame2.iloc[:,0])\n",
    "print('\\n',frame2.iloc[0:2,0:2])\n",
    "print('\\n',frame2.iloc[[0,2],[0,2]])\n",
    "print('\\n',frame2.iloc[:,-1])"
   ]
  },
  {
   "cell_type": "markdown",
   "metadata": {},
   "source": [
    "### Index"
   ]
  },
  {
   "cell_type": "code",
   "execution_count": 97,
   "metadata": {},
   "outputs": [
    {
     "data": {
      "text/plain": [
       "Int64Index([2, 3, 5, 7, 11], dtype='int64')"
      ]
     },
     "execution_count": 97,
     "metadata": {},
     "output_type": "execute_result"
    }
   ],
   "source": [
    "ind = pd.Index([2,3,5,7,11])\n",
    "ind"
   ]
  },
  {
   "cell_type": "code",
   "execution_count": 7,
   "metadata": {},
   "outputs": [
    {
     "name": "stdout",
     "output_type": "stream",
     "text": [
      "            b    c    d\n",
      "Ohio      0.0  1.0  2.0\n",
      "Texas     3.0  4.0  5.0\n",
      "Colarado  6.0  7.0  8.0\n",
      "          b     d     e\n",
      "Utah    0.0   1.0   2.0\n",
      "Ohio    3.0   4.0   5.0\n",
      "Texas   6.0   7.0   8.0\n",
      "Oregon  9.0  10.0  11.0\n",
      "            b   c     d   e\n",
      "Colarado  NaN NaN   NaN NaN\n",
      "Ohio      3.0 NaN   6.0 NaN\n",
      "Oregon    NaN NaN   NaN NaN\n",
      "Texas     9.0 NaN  12.0 NaN\n",
      "Utah      NaN NaN   NaN NaN\n"
     ]
    },
    {
     "data": {
      "text/html": [
       "<div>\n",
       "<style scoped>\n",
       "    .dataframe tbody tr th:only-of-type {\n",
       "        vertical-align: middle;\n",
       "    }\n",
       "\n",
       "    .dataframe tbody tr th {\n",
       "        vertical-align: top;\n",
       "    }\n",
       "\n",
       "    .dataframe thead th {\n",
       "        text-align: right;\n",
       "    }\n",
       "</style>\n",
       "<table border=\"1\" class=\"dataframe\">\n",
       "  <thead>\n",
       "    <tr style=\"text-align: right;\">\n",
       "      <th></th>\n",
       "      <th>b</th>\n",
       "      <th>c</th>\n",
       "      <th>d</th>\n",
       "      <th>e</th>\n",
       "    </tr>\n",
       "  </thead>\n",
       "  <tbody>\n",
       "    <tr>\n",
       "      <th>Colarado</th>\n",
       "      <td>NaN</td>\n",
       "      <td>NaN</td>\n",
       "      <td>NaN</td>\n",
       "      <td>NaN</td>\n",
       "    </tr>\n",
       "    <tr>\n",
       "      <th>Ohio</th>\n",
       "      <td>3.0</td>\n",
       "      <td>NaN</td>\n",
       "      <td>6.0</td>\n",
       "      <td>NaN</td>\n",
       "    </tr>\n",
       "    <tr>\n",
       "      <th>Oregon</th>\n",
       "      <td>NaN</td>\n",
       "      <td>NaN</td>\n",
       "      <td>NaN</td>\n",
       "      <td>NaN</td>\n",
       "    </tr>\n",
       "    <tr>\n",
       "      <th>Texas</th>\n",
       "      <td>9.0</td>\n",
       "      <td>NaN</td>\n",
       "      <td>12.0</td>\n",
       "      <td>NaN</td>\n",
       "    </tr>\n",
       "    <tr>\n",
       "      <th>Utah</th>\n",
       "      <td>NaN</td>\n",
       "      <td>NaN</td>\n",
       "      <td>NaN</td>\n",
       "      <td>NaN</td>\n",
       "    </tr>\n",
       "  </tbody>\n",
       "</table>\n",
       "</div>"
      ],
      "text/plain": [
       "            b   c     d   e\n",
       "Colarado  NaN NaN   NaN NaN\n",
       "Ohio      3.0 NaN   6.0 NaN\n",
       "Oregon    NaN NaN   NaN NaN\n",
       "Texas     9.0 NaN  12.0 NaN\n",
       "Utah      NaN NaN   NaN NaN"
      ]
     },
     "execution_count": 7,
     "metadata": {},
     "output_type": "execute_result"
    }
   ],
   "source": [
    "import pandas as pd\n",
    "import numpy as np\n",
    "df1 = pd.DataFrame(np.arange(9.).reshape((3,3)),columns = list('bcd'),index = ['Ohio','Texas','Colarado'])\n",
    "df2 = pd.DataFrame(np.arange(12.).reshape((4,3)),columns = list('bde'),index = ['Utah','Ohio','Texas','Oregon'])\n",
    "\n",
    "df = df1 + df2 \n",
    "\n",
    "print(df1)\n",
    "print(df2)\n",
    "print(df)\n",
    "df"
   ]
  },
  {
   "cell_type": "code",
   "execution_count": 21,
   "metadata": {},
   "outputs": [
    {
     "name": "stdout",
     "output_type": "stream",
     "text": [
      "Sort by Index:\n",
      " a    2\n",
      "b    3\n",
      "d    0\n",
      "e    1\n",
      "dtype: int64\n",
      "Sort by Values:\n",
      " d    0\n",
      "e    1\n",
      "a    2\n",
      "b    3\n",
      "dtype: int64\n",
      "Original:\n",
      "        d  a  c  b\n",
      "three  0  1  2  3\n",
      "one    4  5  6  7\n",
      "Sort:\n",
      "        d  a  c  b\n",
      "one    4  5  6  7\n",
      "three  0  1  2  3\n",
      "Sort axis=1:\n",
      "        a  b  c  d\n",
      "three  1  3  2  0\n",
      "one    5  7  6  4\n",
      "Sort axis=1:\n",
      "        d  c  b  a\n",
      "three  0  2  3  1\n",
      "one    4  6  7  5\n",
      "Sort by Values:\n",
      "        d  a  c  b\n",
      "three  0  1  2  3\n",
      "one    4  5  6  7\n",
      "Sort by multiple Values:\n",
      "        d  a  c  b\n",
      "three  0  1  2  3\n",
      "one    4  5  6  7\n"
     ]
    }
   ],
   "source": [
    "obj = pd.Series(range(4), index=['d','e','a','b'])\n",
    "print(\"Sort by Index:\\n\",obj.sort_index())\n",
    "print(\"Sort by Values:\\n\",obj.sort_values())\n",
    "\n",
    "\n",
    "\n",
    "frame = pd.DataFrame(np.arange(8).reshape(2,4),index=['three','one'],columns=['d','a','c','b'])\n",
    "\n",
    "print('Original:\\n',frame)\n",
    "print('Sort:\\n',frame.sort_index())\n",
    "print('Sort axis=1:\\n',frame.sort_index(axis=1))\n",
    "print('Sort axis=1:\\n',frame.sort_index(axis=1,ascending = False))\n",
    "\n",
    "print(\"Sort by Values:\\n\",frame.sort_values(by = 'b'))\n",
    "print(\"Sort by multiple Values:\\n\",frame.sort_values(by = ['a','b']))\n"
   ]
  },
  {
   "cell_type": "markdown",
   "metadata": {},
   "source": [
    "### Ranking"
   ]
  },
  {
   "cell_type": "code",
   "execution_count": 30,
   "metadata": {},
   "outputs": [
    {
     "name": "stdout",
     "output_type": "stream",
     "text": [
      "0    6.5\n",
      "1    1.0\n",
      "2    6.5\n",
      "3    4.5\n",
      "4    3.0\n",
      "5    2.0\n",
      "6    4.5\n",
      "dtype: float64\n",
      "0    6.0\n",
      "1    1.0\n",
      "2    7.0\n",
      "3    4.0\n",
      "4    3.0\n",
      "5    2.0\n",
      "6    5.0\n",
      "dtype: float64\n",
      "0    1.5\n",
      "1    7.0\n",
      "2    1.5\n",
      "3    3.5\n",
      "4    5.0\n",
      "5    6.0\n",
      "6    3.5\n",
      "dtype: float64\n",
      "0    1.0\n",
      "1    7.0\n",
      "2    2.0\n",
      "3    3.0\n",
      "4    5.0\n",
      "5    6.0\n",
      "6    4.0\n",
      "dtype: float64\n",
      "0    7\n",
      "1   -5\n",
      "2    7\n",
      "3    4\n",
      "4    3\n",
      "5    0\n",
      "6    4\n",
      "dtype: int64\n",
      "0    7.0\n",
      "1    1.0\n",
      "2    7.0\n",
      "3    5.0\n",
      "4    3.0\n",
      "5    2.0\n",
      "6    5.0\n",
      "dtype: float64\n",
      "0    6.0\n",
      "1    1.0\n",
      "2    6.0\n",
      "3    4.0\n",
      "4    3.0\n",
      "5    2.0\n",
      "6    4.0\n",
      "dtype: float64\n"
     ]
    }
   ],
   "source": [
    "obj= pd.Series([7,-5,7,4,3,0,4])\n",
    "print(obj.rank())\n",
    "# By default it assigns ranks in Assigning order. If there are duplicates, It will take the average of both ranks. \n",
    "# We can change this method of taking Average. Use method attribute\n",
    "print(obj.rank(method='first'))\n",
    "# We can rank in descending order\n",
    "print(obj.rank(ascending=False))\n",
    "\n",
    "print(obj.rank(ascending=False,method='first'))\n",
    "print(obj)\n",
    "print(obj.rank(method='max'))\n",
    "print(obj.rank(method='min'))"
   ]
  },
  {
   "cell_type": "code",
   "execution_count": 33,
   "metadata": {},
   "outputs": [
    {
     "name": "stdout",
     "output_type": "stream",
     "text": [
      "Original:\n",
      "      b  a    c\n",
      "0  4.3  0 -2.0\n",
      "1  7.0  1  5.0\n",
      "2 -3.0  0  8.0\n",
      "3  2.0  1 -2.5\n",
      "Rank row wise:\n",
      "      b    a    c\n",
      "0  3.0  1.5  2.0\n",
      "1  4.0  3.5  3.0\n",
      "2  1.0  1.5  4.0\n",
      "3  2.0  3.5  1.0\n",
      "Rank col wise:\n",
      "      b    a    c\n",
      "0  3.0  2.0  1.0\n",
      "1  3.0  1.0  2.0\n",
      "2  1.0  2.0  3.0\n",
      "3  3.0  2.0  1.0\n"
     ]
    }
   ],
   "source": [
    "frame = pd.DataFrame({'b':[4.3,7,-3,2], 'a':[0,1,0,1],'c':[-2,5,8,-2.5]})\n",
    "\n",
    "print(\"Original:\\n\",frame)\n",
    "print(\"Rank row wise:\\n\",frame.rank(axis=0))\n",
    "print(\"Rank col wise:\\n\",frame.rank(axis=1))"
   ]
  },
  {
   "cell_type": "code",
   "execution_count": 36,
   "metadata": {},
   "outputs": [
    {
     "name": "stdout",
     "output_type": "stream",
     "text": [
      "False\n"
     ]
    }
   ],
   "source": [
    "obj = pd.Series(range(3), index=['a','b','a'])\n",
    "print(obj.index.is_unique)"
   ]
  },
  {
   "cell_type": "code",
   "execution_count": null,
   "metadata": {},
   "outputs": [],
   "source": []
  },
  {
   "cell_type": "code",
   "execution_count": null,
   "metadata": {},
   "outputs": [],
   "source": []
  },
  {
   "cell_type": "code",
   "execution_count": null,
   "metadata": {},
   "outputs": [],
   "source": []
  },
  {
   "cell_type": "code",
   "execution_count": null,
   "metadata": {},
   "outputs": [],
   "source": []
  },
  {
   "cell_type": "code",
   "execution_count": null,
   "metadata": {},
   "outputs": [],
   "source": []
  },
  {
   "cell_type": "code",
   "execution_count": null,
   "metadata": {},
   "outputs": [],
   "source": []
  },
  {
   "cell_type": "code",
   "execution_count": null,
   "metadata": {},
   "outputs": [],
   "source": []
  },
  {
   "cell_type": "code",
   "execution_count": null,
   "metadata": {},
   "outputs": [],
   "source": []
  },
  {
   "cell_type": "code",
   "execution_count": null,
   "metadata": {},
   "outputs": [],
   "source": []
  }
 ],
 "metadata": {
  "kernelspec": {
   "display_name": "Python 3",
   "language": "python",
   "name": "python3"
  },
  "language_info": {
   "codemirror_mode": {
    "name": "ipython",
    "version": 3
   },
   "file_extension": ".py",
   "mimetype": "text/x-python",
   "name": "python",
   "nbconvert_exporter": "python",
   "pygments_lexer": "ipython3",
   "version": "3.7.0"
  }
 },
 "nbformat": 4,
 "nbformat_minor": 2
}
